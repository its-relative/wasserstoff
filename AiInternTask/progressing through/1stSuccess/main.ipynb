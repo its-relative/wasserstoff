{
 "cells": [
  {
   "cell_type": "code",
   "execution_count": 1,
   "metadata": {},
   "outputs": [
    {
     "name": "stdout",
     "output_type": "stream",
     "text": [
      "Hello\n"
     ]
    }
   ],
   "source": [
    "print(\"Hello\")"
   ]
  },
  {
   "cell_type": "code",
   "execution_count": 8,
   "metadata": {},
   "outputs": [
    {
     "name": "stdout",
     "output_type": "stream",
     "text": [
      "Requirement already satisfied: pymongo in /home/its_relative/virEnvs/py312/lib/python3.12/site-packages (4.10.1)\n",
      "Requirement already satisfied: dnspython<3.0.0,>=1.16.0 in /home/its_relative/virEnvs/py312/lib/python3.12/site-packages (from pymongo) (2.7.0)\n",
      "Requirement already satisfied: PyPDF2 in /home/its_relative/virEnvs/py312/lib/python3.12/site-packages (3.0.1)\n",
      "Requirement already satisfied: pdfplumber in /home/its_relative/virEnvs/py312/lib/python3.12/site-packages (0.11.4)\n",
      "Requirement already satisfied: pdfminer.six==20231228 in /home/its_relative/virEnvs/py312/lib/python3.12/site-packages (from pdfplumber) (20231228)\n",
      "Requirement already satisfied: Pillow>=9.1 in /home/its_relative/virEnvs/py312/lib/python3.12/site-packages (from pdfplumber) (10.4.0)\n",
      "Requirement already satisfied: pypdfium2>=4.18.0 in /home/its_relative/virEnvs/py312/lib/python3.12/site-packages (from pdfplumber) (4.30.0)\n",
      "Requirement already satisfied: charset-normalizer>=2.0.0 in /home/its_relative/virEnvs/py312/lib/python3.12/site-packages (from pdfminer.six==20231228->pdfplumber) (3.4.0)\n",
      "Requirement already satisfied: cryptography>=36.0.0 in /home/its_relative/virEnvs/py312/lib/python3.12/site-packages (from pdfminer.six==20231228->pdfplumber) (43.0.1)\n",
      "Requirement already satisfied: cffi>=1.12 in /home/its_relative/virEnvs/py312/lib/python3.12/site-packages (from cryptography>=36.0.0->pdfminer.six==20231228->pdfplumber) (1.17.1)\n",
      "Requirement already satisfied: pycparser in /home/its_relative/virEnvs/py312/lib/python3.12/site-packages (from cffi>=1.12->cryptography>=36.0.0->pdfminer.six==20231228->pdfplumber) (2.22)\n",
      "Requirement already satisfied: nltk in /home/its_relative/virEnvs/py312/lib/python3.12/site-packages (3.9.1)\n",
      "Requirement already satisfied: click in /home/its_relative/virEnvs/py312/lib/python3.12/site-packages (from nltk) (8.1.7)\n",
      "Requirement already satisfied: joblib in /home/its_relative/virEnvs/py312/lib/python3.12/site-packages (from nltk) (1.4.2)\n",
      "Requirement already satisfied: regex>=2021.8.3 in /home/its_relative/virEnvs/py312/lib/python3.12/site-packages (from nltk) (2024.9.11)\n",
      "Requirement already satisfied: tqdm in /home/its_relative/virEnvs/py312/lib/python3.12/site-packages (from nltk) (4.66.5)\n",
      "Requirement already satisfied: transformers in /home/its_relative/virEnvs/py312/lib/python3.12/site-packages (4.45.2)\n",
      "Requirement already satisfied: filelock in /home/its_relative/virEnvs/py312/lib/python3.12/site-packages (from transformers) (3.16.1)\n",
      "Requirement already satisfied: huggingface-hub<1.0,>=0.23.2 in /home/its_relative/virEnvs/py312/lib/python3.12/site-packages (from transformers) (0.25.2)\n",
      "Requirement already satisfied: numpy>=1.17 in /home/its_relative/virEnvs/py312/lib/python3.12/site-packages (from transformers) (2.1.2)\n",
      "Requirement already satisfied: packaging>=20.0 in /home/its_relative/virEnvs/py312/lib/python3.12/site-packages (from transformers) (24.1)\n",
      "Requirement already satisfied: pyyaml>=5.1 in /home/its_relative/virEnvs/py312/lib/python3.12/site-packages (from transformers) (6.0.2)\n",
      "Requirement already satisfied: regex!=2019.12.17 in /home/its_relative/virEnvs/py312/lib/python3.12/site-packages (from transformers) (2024.9.11)\n",
      "Requirement already satisfied: requests in /home/its_relative/virEnvs/py312/lib/python3.12/site-packages (from transformers) (2.32.3)\n",
      "Requirement already satisfied: safetensors>=0.4.1 in /home/its_relative/virEnvs/py312/lib/python3.12/site-packages (from transformers) (0.4.5)\n",
      "Requirement already satisfied: tokenizers<0.21,>=0.20 in /home/its_relative/virEnvs/py312/lib/python3.12/site-packages (from transformers) (0.20.1)\n",
      "Requirement already satisfied: tqdm>=4.27 in /home/its_relative/virEnvs/py312/lib/python3.12/site-packages (from transformers) (4.66.5)\n",
      "Requirement already satisfied: fsspec>=2023.5.0 in /home/its_relative/virEnvs/py312/lib/python3.12/site-packages (from huggingface-hub<1.0,>=0.23.2->transformers) (2024.9.0)\n",
      "Requirement already satisfied: typing-extensions>=3.7.4.3 in /home/its_relative/virEnvs/py312/lib/python3.12/site-packages (from huggingface-hub<1.0,>=0.23.2->transformers) (4.12.2)\n",
      "Requirement already satisfied: charset-normalizer<4,>=2 in /home/its_relative/virEnvs/py312/lib/python3.12/site-packages (from requests->transformers) (3.4.0)\n",
      "Requirement already satisfied: idna<4,>=2.5 in /home/its_relative/virEnvs/py312/lib/python3.12/site-packages (from requests->transformers) (3.10)\n",
      "Requirement already satisfied: urllib3<3,>=1.21.1 in /home/its_relative/virEnvs/py312/lib/python3.12/site-packages (from requests->transformers) (2.2.3)\n",
      "Requirement already satisfied: certifi>=2017.4.17 in /home/its_relative/virEnvs/py312/lib/python3.12/site-packages (from requests->transformers) (2024.8.30)\n",
      "Requirement already satisfied: scikit-learn in /home/its_relative/virEnvs/py312/lib/python3.12/site-packages (1.5.2)\n",
      "Requirement already satisfied: numpy>=1.19.5 in /home/its_relative/virEnvs/py312/lib/python3.12/site-packages (from scikit-learn) (2.1.2)\n",
      "Requirement already satisfied: scipy>=1.6.0 in /home/its_relative/virEnvs/py312/lib/python3.12/site-packages (from scikit-learn) (1.14.1)\n",
      "Requirement already satisfied: joblib>=1.2.0 in /home/its_relative/virEnvs/py312/lib/python3.12/site-packages (from scikit-learn) (1.4.2)\n",
      "Requirement already satisfied: threadpoolctl>=3.1.0 in /home/its_relative/virEnvs/py312/lib/python3.12/site-packages (from scikit-learn) (3.5.0)\n",
      "Requirement already satisfied: asyncio in /home/its_relative/virEnvs/py312/lib/python3.12/site-packages (3.4.3)\n"
     ]
    }
   ],
   "source": [
    "import subprocess\n",
    "import sys\n",
    "\n",
    "# List of libraries to install\n",
    "libraries = [\n",
    "    \"pymongo\",\n",
    "    \"PyPDF2\",\n",
    "    \"pdfplumber\",\n",
    "    \"nltk\",\n",
    "    \"transformers\",\n",
    "    \"scikit-learn\",\n",
    "    \"asyncio\",\n",
    "    # \"textract\"\n",
    "    # \"pyPDF2\",\n",
    "    # \"pymongo\"\n",
    "]\n",
    "\n",
    "# Install libraries with retry\n",
    "for library in libraries:\n",
    "    install_status = subprocess.call([sys.executable, \"-m\", \"pip\", \"install\", library])\n",
    "    \n",
    "    if install_status != 0:\n",
    "        print(f\"Error installing {library}. Retrying...\")\n",
    "        subprocess.call([sys.executable, \"-m\", \"pip\", \"install\", \"--upgrade\", \"--force-reinstall\", library])"
   ]
  },
  {
   "cell_type": "code",
   "execution_count": 12,
   "metadata": {},
   "outputs": [
    {
     "name": "stdout",
     "output_type": "stream",
     "text": [
      "Found existing installation: pdfminer.six 20240706\n",
      "Uninstalling pdfminer.six-20240706:\n",
      "  Successfully uninstalled pdfminer.six-20240706\n",
      "Collecting pdfminer.six==20231228\n",
      "  Using cached pdfminer.six-20231228-py3-none-any.whl.metadata (4.2 kB)\n",
      "Requirement already satisfied: charset-normalizer>=2.0.0 in /home/its_relative/virEnvs/py312/lib/python3.12/site-packages (from pdfminer.six==20231228) (3.4.0)\n",
      "Requirement already satisfied: cryptography>=36.0.0 in /home/its_relative/virEnvs/py312/lib/python3.12/site-packages (from pdfminer.six==20231228) (43.0.1)\n",
      "Requirement already satisfied: cffi>=1.12 in /home/its_relative/virEnvs/py312/lib/python3.12/site-packages (from cryptography>=36.0.0->pdfminer.six==20231228) (1.17.1)\n",
      "Requirement already satisfied: pycparser in /home/its_relative/virEnvs/py312/lib/python3.12/site-packages (from cffi>=1.12->cryptography>=36.0.0->pdfminer.six==20231228) (2.22)\n",
      "Using cached pdfminer.six-20231228-py3-none-any.whl (5.6 MB)\n",
      "Installing collected packages: pdfminer.six\n",
      "Successfully installed pdfminer.six-20231228\n"
     ]
    }
   ],
   "source": [
    "!pip uninstall pdfminer.six -y\n",
    "!pip install pdfminer.six==20231228\n"
   ]
  },
  {
   "cell_type": "code",
   "execution_count": 1,
   "metadata": {},
   "outputs": [
    {
     "name": "stdout",
     "output_type": "stream",
     "text": [
      "PDF processing complete, summaries and keywords saved to MongoDB successfully!\n"
     ]
    }
   ],
   "source": [
    "import os\n",
    "# import textract\n",
    "from PyPDF2 import PdfReader\n",
    "import pdfplumber\n",
    "from pymongo import MongoClient\n",
    "\n",
    "# from summarization import summarize_text\n",
    "\n",
    "from src.summarization import summarize_text\n",
    "from src.keyword_extraction import extract_keywords\n",
    "\n",
    "# from keyword_extraction import extract_keywords\n",
    "\n",
    "# Initialize MongoDB connection\n",
    "client = MongoClient(\"mongodb://localhost:27017/\")\n",
    "db = client[\"pdf_summary_db\"]\n",
    "collection = db[\"pdf_documents\"]\n",
    "\n",
    "# Define the base directory containing the PDFs\n",
    "base_dir = 'pdfs/'\n",
    "\n",
    "# Function to read PDFs using pdfplumber for better accuracy\n",
    "def read_pdf(file):\n",
    "    try:\n",
    "        with pdfplumber.open(file) as pdf:\n",
    "            text = ''\n",
    "            for page in pdf.pages:\n",
    "                text += page.extract_text() if page.extract_text() else ''\n",
    "        return text\n",
    "    except Exception as e:\n",
    "        print(f'Error reading PDF {file}: {e}')\n",
    "        return None\n",
    "\n",
    "# Walk through the directory structure and process PDFs\n",
    "for root, dirs, files in os.walk(base_dir):\n",
    "    for file_name in files:\n",
    "        # Print the file name for debugging purposes\n",
    "        print(f'Processing file: {file_name}')\n",
    "        \n",
    "        # Get the file path\n",
    "        file_path = os.path.join(root, file_name)\n",
    "        \n",
    "        # Handle only PDFs in this case\n",
    "        if file_name.endswith('.pdf'):\n",
    "            content = read_pdf(file_path)\n",
    "        else:\n",
    "            print(f'Skipping file: {file_name} (unsupported format)')\n",
    "            continue\n",
    "        \n",
    "        if content is not None:\n",
    "            # Summarize the text\n",
    "            summary = summarize_text(content, method=\"textrank\")  # You can use the transformer-based method here\n",
    "            \n",
    "            # Extract keywords from the text\n",
    "            keywords = extract_keywords(content, num_keywords=5)\n",
    "            \n",
    "            # Store the results in MongoDB\n",
    "            document = {\n",
    "                \"pdf_name\": file_name,\n",
    "                \"summary\": summary,\n",
    "                \"keywords\": keywords\n",
    "            }\n",
    "            collection.insert_one(document)\n",
    "            print(f'Successfully processed and saved {file_name}')\n",
    "        else:\n",
    "            print(f'Failed to read file {file_name}. Content is None.')\n",
    "\n",
    "print('PDF processing complete, summaries and keywords saved to MongoDB successfully!')\n"
   ]
  },
  {
   "cell_type": "code",
   "execution_count": null,
   "metadata": {},
   "outputs": [],
   "source": []
  },
  {
   "cell_type": "code",
   "execution_count": null,
   "metadata": {},
   "outputs": [],
   "source": []
  }
 ],
 "metadata": {
  "kernelspec": {
   "display_name": "py312",
   "language": "python",
   "name": "python3"
  },
  "language_info": {
   "codemirror_mode": {
    "name": "ipython",
    "version": 3
   },
   "file_extension": ".py",
   "mimetype": "text/x-python",
   "name": "python",
   "nbconvert_exporter": "python",
   "pygments_lexer": "ipython3",
   "version": "3.12.3"
  }
 },
 "nbformat": 4,
 "nbformat_minor": 2
}
